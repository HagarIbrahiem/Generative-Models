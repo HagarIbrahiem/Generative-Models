{
  "nbformat": 4,
  "nbformat_minor": 0,
  "metadata": {
    "colab": {
      "provenance": [],
      "gpuType": "T4",
      "authorship_tag": "ABX9TyPX8GZmTKmCR7UFofx9mnkO",
      "include_colab_link": true
    },
    "kernelspec": {
      "name": "python3",
      "display_name": "Python 3"
    },
    "language_info": {
      "name": "python"
    },
    "accelerator": "GPU"
  },
  "cells": [
    {
      "cell_type": "markdown",
      "metadata": {
        "id": "view-in-github",
        "colab_type": "text"
      },
      "source": [
        "<a href=\"https://colab.research.google.com/github/HagarIbrahiem/Generative-Models/blob/main/Generative%20Models%20%7C%20GANs%20%7C%20Images%20of%20Hands%20.ipynb\" target=\"_parent\"><img src=\"https://colab.research.google.com/assets/colab-badge.svg\" alt=\"Open In Colab\"/></a>"
      ]
    },
    {
      "cell_type": "markdown",
      "source": [
        "This notebook implments a Generative Adversarial Network (GAN) - DCGAN that generates pictures of hands. These will be trained on a dataset of hand images doing sign language."
      ],
      "metadata": {
        "id": "5gm1XOol3N43"
      }
    },
    {
      "cell_type": "markdown",
      "source": [
        "## Imports Libs"
      ],
      "metadata": {
        "id": "UuP-atbU3Xj2"
      }
    },
    {
      "cell_type": "code",
      "execution_count": 16,
      "metadata": {
        "id": "MYpAD9xD1Klj"
      },
      "outputs": [],
      "source": [
        "import tensorflow as tf\n",
        "import tensorflow.keras as keras\n",
        "\n",
        "import matplotlib.pyplot as plt\n",
        "import numpy as np\n",
        "\n",
        "import urllib.request\n",
        "import zipfile\n",
        "from IPython import display"
      ]
    },
    {
      "cell_type": "markdown",
      "source": [
        "## Utilities"
      ],
      "metadata": {
        "id": "RGuGwL2b3ca_"
      }
    },
    {
      "cell_type": "code",
      "source": [
        "def plot_results(images, n_cols=None):\n",
        "    '''visualizes fake images'''\n",
        "    display.clear_output(wait=False)\n",
        "\n",
        "    n_cols = n_cols or len(images)\n",
        "    n_rows = (len(images) - 1) // n_cols + 1\n",
        "\n",
        "    if images.shape[-1] == 1:\n",
        "        images = np.squeeze(images, axis=-1)\n",
        "\n",
        "    plt.figure(figsize=(n_cols, n_rows))\n",
        "\n",
        "    for index, image in enumerate(images):\n",
        "        plt.subplot(n_rows, n_cols, index + 1)\n",
        "        plt.imshow(image, cmap=\"binary\")\n",
        "        plt.axis(\"off\")"
      ],
      "metadata": {
        "id": "FjhnFFCA3aQT"
      },
      "execution_count": 17,
      "outputs": []
    },
    {
      "cell_type": "markdown",
      "source": [
        "## Load Data"
      ],
      "metadata": {
        "id": "FrX3mfnf3ghz"
      }
    },
    {
      "cell_type": "code",
      "source": [
        "# download the dataset\n",
        "training_url = \"https://storage.googleapis.com/laurencemoroney-blog.appspot.com/Resources/signs-training.zip\"\n",
        "training_file_name = \"signs-training.zip\"\n",
        "urllib.request.urlretrieve(training_url, training_file_name)\n",
        "\n",
        "# extract to local directory\n",
        "training_dir = \"/tmp\"\n",
        "zip_ref = zipfile.ZipFile(training_file_name, 'r')\n",
        "zip_ref.extractall(training_dir)\n",
        "zip_ref.close()"
      ],
      "metadata": {
        "id": "a9aRXEyQ3e2f"
      },
      "execution_count": 1,
      "outputs": []
    },
    {
      "cell_type": "markdown",
      "source": [
        "## Preprocess images\n",
        "\n",
        "Prepare the dataset to a format suitable for the model:\n",
        "- read the files,\n",
        "- convert it to a tensor of floats,\n",
        "- then normalize the pixel values."
      ],
      "metadata": {
        "id": "wMhgZuqP47WT"
      }
    },
    {
      "cell_type": "code",
      "source": [
        "BATCH_SIZE = 32\n",
        "\n",
        "# mapping function for preprocessing the image files\n",
        "def map_images(file):\n",
        "  '''converts the images to floats and normalizes the pixel values'''\n",
        "  img = tf.io.decode_png(tf.io.read_file(file))\n",
        "  img = tf.dtypes.cast(img, tf.float32)\n",
        "  img = img / 255.0\n",
        "\n",
        "  return img\n",
        "\n",
        "# create training batches\n",
        "filename_dataset = tf.data.Dataset.list_files(\"/tmp/signs-training/*.png\")\n",
        "image_dataset = filename_dataset.map(map_images).batch(BATCH_SIZE)"
      ],
      "metadata": {
        "id": "F5siY9jm3keK"
      },
      "execution_count": null,
      "outputs": []
    },
    {
      "cell_type": "markdown",
      "source": [
        "## Build Model"
      ],
      "metadata": {
        "id": "5Js7wo7h5OUT"
      }
    },
    {
      "cell_type": "markdown",
      "source": [
        "### Build Generator\n",
        "\n",
        "Using the following architecture:\n",
        "- *Dense*: number of units should equal `7 * 7 * 128`, input_shape takes in a list containing the random normal dimensions.\n",
        "    - `random_normal_dimensions` is a hyperparameter that defines how many random numbers in a vector you'll want to feed into the generator as a starting point for generating images.\n",
        "- *Reshape*: reshape the vector to a 7 x 7 x 128 tensor.\n",
        "- *BatchNormalization*\n",
        "- *Conv2DTranspose*: takes `64` units, kernel size is `5`, strides is `2`, padding is `SAME`, activation is `selu`.\n",
        "- *BatchNormalization*\n",
        "- *Conv2DTranspose*: `1` unit, kernel size is `5`, strides is `2`, padding is `SAME`, and activation is `tanh`."
      ],
      "metadata": {
        "id": "5Hfbs3ht5QKL"
      }
    },
    {
      "cell_type": "code",
      "source": [
        "# pass the random_normal_dimensions to the first dense layer of the generator\n",
        "random_normal_dimensions = 32\n",
        "\n",
        "generator = keras.models.Sequential([\n",
        "    keras.layers.Dense(7 * 7 * 128, input_shape=[random_normal_dimensions]),\n",
        "    keras.layers.Reshape([7, 7, 128]),\n",
        "    keras.layers.BatchNormalization(),\n",
        "    keras.layers.Conv2DTranspose(64, kernel_size=5, strides=2, padding=\"SAME\",\n",
        "                                 activation=\"selu\"),\n",
        "    keras.layers.BatchNormalization(),\n",
        "    keras.layers.Conv2DTranspose(1, kernel_size=5, strides=2, padding=\"SAME\",\n",
        "                                 activation=\"tanh\"),\n",
        "])\n",
        "\n",
        "generator.summary()"
      ],
      "metadata": {
        "id": "hKe6uWRM5MMx"
      },
      "execution_count": null,
      "outputs": []
    },
    {
      "cell_type": "markdown",
      "source": [
        "### Build Discriminator\n",
        "\n",
        "Using following architecture for the discriminator:\n",
        "- *Conv2D*: 64 units, kernel size of 5, strides of 2, padding is SAME, activation is a leaky relu with alpha of 0.2, input shape is 28 x 28 x 1\n",
        "- *Dropout*: rate is 0.4 (fraction of input units to drop)\n",
        "- *Conv2D*: 128 units, kernel size of 5, strides of 2, padding is SAME, activation is LeakyRelu with alpha of 0.2\n",
        "- *Dropout*: rate is 0.4.\n",
        "- *Flatten*\n",
        "- *Dense*: with 1 unit and a sigmoid activation"
      ],
      "metadata": {
        "id": "fPtvq7Ec6Tgd"
      }
    },
    {
      "cell_type": "code",
      "source": [
        "discriminator = keras.models.Sequential([\n",
        "    keras.layers.Conv2D(64, kernel_size=5, strides=2, padding=\"SAME\",\n",
        "                        activation=keras.layers.LeakyReLU(0.2),\n",
        "                        input_shape=[28, 28, 1]),\n",
        "    keras.layers.Dropout(0.4),\n",
        "    keras.layers.Conv2D(128, kernel_size=5, strides=2, padding=\"SAME\",\n",
        "                        activation=keras.layers.LeakyReLU(0.2)),\n",
        "    keras.layers.Dropout(0.4),\n",
        "    keras.layers.Flatten(),\n",
        "    keras.layers.Dense(1, activation=\"sigmoid\")\n",
        "])\n",
        "\n",
        "discriminator.summary()"
      ],
      "metadata": {
        "id": "17BrsnT56Q9m"
      },
      "execution_count": null,
      "outputs": []
    },
    {
      "cell_type": "markdown",
      "source": [
        "#### Compile Discriminator\n",
        "\n",
        "- Compile the discriminator with a binary_crossentropy loss and rmsprop optimizer.\n",
        "- Set the discriminator to not train on its weights (set its \"trainable\" field)."
      ],
      "metadata": {
        "id": "G_q_weFW6oQQ"
      }
    },
    {
      "cell_type": "code",
      "source": [
        "discriminator.compile(loss=\"binary_crossentropy\", optimizer=\"rmsprop\")\n",
        "discriminator.trainable = False"
      ],
      "metadata": {
        "id": "Bia1E4BP6lx-"
      },
      "execution_count": null,
      "outputs": []
    },
    {
      "cell_type": "markdown",
      "source": [
        "## Build and compile the GAN model\n",
        "\n",
        "- Build the sequential model for the GAN, passing a list containing the generator and discriminator.\n",
        "- Compile the model with a binary cross entropy loss and rmsprop optimizer."
      ],
      "metadata": {
        "id": "hD41w2so6x-6"
      }
    },
    {
      "cell_type": "code",
      "source": [
        "gan = keras.models.Sequential([generator, discriminator])\n",
        "gan.compile(loss=\"binary_crossentropy\", optimizer=\"rmsprop\")"
      ],
      "metadata": {
        "id": "DMupAZ7O6v8R"
      },
      "execution_count": null,
      "outputs": []
    },
    {
      "cell_type": "markdown",
      "source": [
        "## Train the GAN\n",
        "\n",
        "Phase 1\n",
        "- real_batch_size: Get the batch size of the input batch (it's the zero-th dimension of the tensor)\n",
        "- noise: Generate the noise using `tf.random.normal`.  The shape is batch size x random_normal_dimension\n",
        "- fake images: Use the generator that you just created. Pass in the noise and produce fake images.\n",
        "- mixed_images: concatenate the fake images with the real images.\n",
        "  - Set the axis to 0.\n",
        "- discriminator_labels: Set to `0.` for fake images and `1.` for real images.\n",
        "- Set the discriminator as trainable.\n",
        "- Use the discriminator's `train_on_batch()` method to train on the mixed images and the discriminator labels.\n",
        "\n",
        "\n",
        "Phase 2\n",
        "- noise: generate random normal values with dimensions batch_size x random_normal_dimensions\n",
        "  - Use `real_batch_size`.\n",
        "- Generator_labels: Set to `1.` to mark the fake images as real\n",
        "  - The generator will generate fake images that are labeled as real images and attempt to fool the discriminator.\n",
        "- Set the discriminator to NOT be trainable.\n",
        "- Train the GAN on the noise and the generator labels."
      ],
      "metadata": {
        "id": "Oag9PVsa695e"
      }
    },
    {
      "cell_type": "code",
      "source": [
        "def train_gan(gan, dataset, random_normal_dimensions, n_epochs=50):\n",
        "    \"\"\" Defines the two-phase training loop of the GAN\n",
        "    Args:\n",
        "      gan -- the GAN model which has the generator and discriminator\n",
        "      dataset -- the training set of real images\n",
        "      random_normal_dimensions -- dimensionality of the input to the generator\n",
        "      n_epochs -- number of epochs\n",
        "    \"\"\"\n",
        "\n",
        "    # get the two sub networks from the GAN model\n",
        "    generator, discriminator = gan.layers\n",
        "\n",
        "    for epoch in range(n_epochs):\n",
        "        print(\"Epoch {}/{}\".format(epoch + 1, n_epochs))\n",
        "        for real_images in dataset:\n",
        "\n",
        "            # infer batch size from the current batch of real images\n",
        "            real_batch_size = real_images.shape[0]\n",
        "\n",
        "            # Train the discriminator - PHASE 1\n",
        "            # Create the noise\n",
        "            noise = tf.random.normal(shape=[real_batch_size, random_normal_dimensions])\n",
        "\n",
        "\n",
        "            # Use the noise to generate fake images\n",
        "            fake_images = generator(noise)\n",
        "\n",
        "            # Create a list by concatenating the fake images with the real ones\n",
        "            mixed_images = tf.concat([fake_images, real_images], axis=0)\n",
        "\n",
        "\n",
        "            # Create the labels for the discriminator\n",
        "            # 0 for the fake images\n",
        "            # 1 for the real images\n",
        "            discriminator_labels = tf.constant([[0.]] * real_batch_size + [[1.]] * real_batch_size)\n",
        "\n",
        "\n",
        "            # Ensure that the discriminator is trainable\n",
        "            discriminator.trainable = True\n",
        "\n",
        "            # Use train_on_batch to train the discriminator with the mixed images and the discriminator labels\n",
        "            discriminator.train_on_batch(mixed_images, discriminator_labels)\n",
        "\n",
        "            # Train the generator - PHASE 2\n",
        "            # create a batch of noise input to feed to the GAN\n",
        "            noise = tf.random.normal(shape=[real_batch_size, random_normal_dimensions])\n",
        "\n",
        "            # label all generated images to be \"real\"\n",
        "            generator_labels = tf.constant([[1.]] * real_batch_size)\n",
        "\n",
        "            # Freeze the discriminator\n",
        "            discriminator.trainable=False\n",
        "\n",
        "            # Train the GAN on the noise with the labels all set to be true\n",
        "            gan.train_on_batch(noise, generator_labels)\n",
        "\n",
        "        plot_results(fake_images, 16)\n",
        "        plt.show()\n",
        "    return fake_images"
      ],
      "metadata": {
        "id": "NbAtT9pU7EFd"
      },
      "execution_count": null,
      "outputs": []
    },
    {
      "cell_type": "markdown",
      "source": [
        "## Run the training\n",
        "For each epoch, a set of 31 images will be displayed onscreen. The longer the  train, the better the output fake images will be."
      ],
      "metadata": {
        "id": "ud1rM0Zh7Mn-"
      }
    },
    {
      "cell_type": "code",
      "source": [
        "# we can adjust the number of epochs\n",
        "EPOCHS = 60\n",
        "\n",
        "# run the training loop and collect images\n",
        "fake_images = train_gan(gan, image_dataset, random_normal_dimensions, EPOCHS)"
      ],
      "metadata": {
        "id": "rpDyNn0i7T-j"
      },
      "execution_count": null,
      "outputs": []
    }
  ]
}